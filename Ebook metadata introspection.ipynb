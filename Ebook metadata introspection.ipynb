{
 "metadata": {
  "name": "",
  "signature": "sha256:55b786fbab852f35732b313a25f6e1c8dbf085b4b676ddb3e5b33383f61e0169"
 },
 "nbformat": 3,
 "nbformat_minor": 0,
 "worksheets": [
  {
   "cells": [
    {
     "cell_type": "markdown",
     "metadata": {},
     "source": [
      "# Ebook metadata\n",
      "Ebooks must have the following metadata:\n",
      "\n",
      "\n",
      "* `<dc:identifier>`\u2014one or more\n",
      "* `<dc:title>`\u2014one or more\n",
      "* `<dc:language>`\u2014exactly one (ISO per RFC5646)\n",
      "\n",
      "But can specify many more."
     ]
    },
    {
     "cell_type": "markdown",
     "metadata": {},
     "source": [
      "## Installation\n",
      "\n",
      "Debian has the packages `python-ebooklib` and `python3-ebooklib`\n",
      "\n",
      "    # apt-get install python-ebooklib"
     ]
    },
    {
     "cell_type": "code",
     "collapsed": false,
     "input": [
      "from ebooklib import epub"
     ],
     "language": "python",
     "metadata": {},
     "outputs": [],
     "prompt_number": 1
    },
    {
     "cell_type": "code",
     "collapsed": false,
     "input": [
      "book = epub.read_epub('Moby-Dick.0.0.4.epub')"
     ],
     "language": "python",
     "metadata": {},
     "outputs": [],
     "prompt_number": 2
    },
    {
     "cell_type": "code",
     "collapsed": false,
     "input": [
      "import pprint"
     ],
     "language": "python",
     "metadata": {},
     "outputs": [],
     "prompt_number": 23
    },
    {
     "cell_type": "code",
     "collapsed": false,
     "input": [
      "pprint.pprint(book.metadata)"
     ],
     "language": "python",
     "metadata": {},
     "outputs": [
      {
       "output_type": "stream",
       "stream": "stdout",
       "text": [
        "{'http://purl.org/dc/elements/1.1/': {'creator': [('Herman Melville', {})],\n",
        "                                      'identifier': [('randomid-idp0',\n",
        "                                                      {'id': 'pub-identifier'})],\n",
        "                                      'language': [('en',\n",
        "                                                    {'id': 'pub-language'})],\n",
        "                                      'title': [('Moby Dick; or, The Whale',\n",
        "                                                 {'id': 'pub-title'})]},\n",
        " 'http://purl.org/dc/terms/': {},\n",
        " 'http://www.idpf.org/2007/opf': {None: [('randomid-idp0',\n",
        "                                          {'id': 'meta-identifier',\n",
        "                                           'property': 'dcterms:identifier'}),\n",
        "                                         ('Moby Dick; or, The Whale',\n",
        "                                          {'id': 'meta-title',\n",
        "                                           'property': 'dcterms:title'}),\n",
        "                                         ('en',\n",
        "                                          {'id': 'meta-language',\n",
        "                                           'property': 'dcterms:language'}),\n",
        "                                         ('2015-05-04T20:10:49Z',\n",
        "                                          {'property': 'dcterms:modified'}),\n",
        "                                         ('Herman Melville',\n",
        "                                          {'property': 'dcterms:creator'}),\n",
        "                                         ('true',\n",
        "                                          {'property': 'ibooks:specified-fonts'})],\n",
        "                                  'cover': [(None,\n",
        "                                             {'content': 'cover-image',\n",
        "                                              'name': 'cover'})]}}\n"
       ]
      }
     ],
     "prompt_number": 24
    },
    {
     "cell_type": "markdown",
     "metadata": {},
     "source": [
      "## What we have\n",
      "\n",
      "Our ebook has a value for dc:identifier, but it isn't unique or good.  We need to fix this.\n",
      "\n",
      "Our book has an ok title: 'Moby Dick; or, The Whale'\n",
      "\n",
      "And it has 'en' as language\n",
      "\n"
     ]
    },
    {
     "cell_type": "code",
     "collapsed": false,
     "input": [],
     "language": "python",
     "metadata": {},
     "outputs": []
    }
   ],
   "metadata": {}
  }
 ]
}